{
 "cells": [
  {
   "cell_type": "markdown",
   "metadata": {},
   "source": [
    "<img align=\"left\" src=\"https://lever-client-logos.s3.amazonaws.com/864372b1-534c-480e-acd5-9711f850815c-1524247202159.png\" width=200>\n",
    "<br></br>\n",
    "<br></br>\n",
    "\n",
    "## *Data Science Unit 4 Sprint 2*\n",
    "\n",
    "# Sprint Challenge - Neural Network Foundations\n",
    "\n",
    "Table of Problems\n",
    "\n",
    "1. [Defining Neural Networks](#Q1)\n",
    "2. [Chocolate Gummy Bears](#Q2)\n",
    "    - Perceptron\n",
    "    - Multilayer Perceptron\n",
    "4. [Keras MMP](#Q3)"
   ]
  },
  {
   "cell_type": "markdown",
   "metadata": {},
   "source": [
    "<a id=\"Q1\"></a>\n",
    "## 1. Define the following terms:\n",
    "\n",
    "- **Neuron:** percipitate the flow of a neural network; individual 'piece' of a neural network that takes inputs and generates/passed on output\n",
    "- **Input Layer:** layer of a neural network that takes an input; first layer of neural network\n",
    "- **Hidden Layer:** layer of a neural network that manipulates inputs using weights and biases; hidden layer can contain multiple layers\n",
    "- **Output Layer:** layer of a neural network that outputs a result\n",
    "- **Activation:** generates final output after passed sum of products from all neuron firings; each neuron has its own activation function (typically each node/neuron in a given layer has the same activation function); decides whether a given node 'fires' or not, how much signal to pass on to next layer\n",
    "- **Backpropagation:** algorithm for how weights in a neural network are updated in reverse order at the end of each training epoch\n"
   ]
  },
  {
   "cell_type": "markdown",
   "metadata": {},
   "source": [
    "## 2. Chocolate Gummy Bears <a id=\"Q2\"></a>\n",
    "\n",
    "Right now, you're probably thinking, \"yuck, who the hell would eat that?\". Great question. Your candy company wants to know too. And you thought I was kidding about the [Chocolate Gummy Bears](https://nuts.com/chocolatessweets/gummies/gummy-bears/milk-gummy-bears.html?utm_source=google&utm_medium=cpc&adpos=1o1&gclid=Cj0KCQjwrfvsBRD7ARIsAKuDvMOZrysDku3jGuWaDqf9TrV3x5JLXt1eqnVhN0KM6fMcbA1nod3h8AwaAvWwEALw_wcB). \n",
    "\n",
    "Let's assume that a candy company has gone out and collected information on the types of Halloween candy kids ate. Our candy company wants to predict the eating behavior of witches, warlocks, and ghosts -- aka costumed kids. They shared a sample dataset with us. Each row represents a piece of candy that a costumed child was presented with during \"trick\" or \"treat\". We know if the candy was `chocolate` (or not chocolate) or `gummy` (or not gummy). Your goal is to predict if the costumed kid `ate` the piece of candy. \n",
    "\n",
    "If both chocolate and gummy equal one, you've got a chocolate gummy bear on your hands!?!?!\n",
    "![Chocolate Gummy Bear](https://ed910ae2d60f0d25bcb8-80550f96b5feb12604f4f720bfefb46d.ssl.cf1.rackcdn.com/3fb630c04435b7b5-2leZuM7_-zoom.jpg)"
   ]
  },
  {
   "cell_type": "code",
   "execution_count": 70,
   "metadata": {
    "collapsed": false,
    "inputHidden": false,
    "jupyter": {
     "outputs_hidden": false
    },
    "outputHidden": false
   },
   "outputs": [],
   "source": [
    "import pandas as pd\n",
    "import numpy as np\n",
    "from sklearn.metrics import accuracy_score\n",
    "from sklearn.model_selection import train_test_split\n",
    "import matplotlib.pyplot as plt\n",
    "\n",
    "\n",
    "candy = pd.read_csv('chocolate_gummy_bears.csv')"
   ]
  },
  {
   "cell_type": "code",
   "execution_count": 4,
   "metadata": {
    "collapsed": false,
    "inputHidden": false,
    "jupyter": {
     "outputs_hidden": false
    },
    "outputHidden": false
   },
   "outputs": [
    {
     "data": {
      "text/html": [
       "<div>\n",
       "<style scoped>\n",
       "    .dataframe tbody tr th:only-of-type {\n",
       "        vertical-align: middle;\n",
       "    }\n",
       "\n",
       "    .dataframe tbody tr th {\n",
       "        vertical-align: top;\n",
       "    }\n",
       "\n",
       "    .dataframe thead th {\n",
       "        text-align: right;\n",
       "    }\n",
       "</style>\n",
       "<table border=\"1\" class=\"dataframe\">\n",
       "  <thead>\n",
       "    <tr style=\"text-align: right;\">\n",
       "      <th></th>\n",
       "      <th>chocolate</th>\n",
       "      <th>gummy</th>\n",
       "      <th>ate</th>\n",
       "    </tr>\n",
       "  </thead>\n",
       "  <tbody>\n",
       "    <tr>\n",
       "      <td>0</td>\n",
       "      <td>0</td>\n",
       "      <td>1</td>\n",
       "      <td>1</td>\n",
       "    </tr>\n",
       "    <tr>\n",
       "      <td>1</td>\n",
       "      <td>1</td>\n",
       "      <td>0</td>\n",
       "      <td>1</td>\n",
       "    </tr>\n",
       "    <tr>\n",
       "      <td>2</td>\n",
       "      <td>0</td>\n",
       "      <td>1</td>\n",
       "      <td>1</td>\n",
       "    </tr>\n",
       "    <tr>\n",
       "      <td>3</td>\n",
       "      <td>0</td>\n",
       "      <td>0</td>\n",
       "      <td>0</td>\n",
       "    </tr>\n",
       "    <tr>\n",
       "      <td>4</td>\n",
       "      <td>1</td>\n",
       "      <td>1</td>\n",
       "      <td>0</td>\n",
       "    </tr>\n",
       "  </tbody>\n",
       "</table>\n",
       "</div>"
      ],
      "text/plain": [
       "   chocolate  gummy  ate\n",
       "0          0      1    1\n",
       "1          1      0    1\n",
       "2          0      1    1\n",
       "3          0      0    0\n",
       "4          1      1    0"
      ]
     },
     "execution_count": 4,
     "metadata": {},
     "output_type": "execute_result"
    }
   ],
   "source": [
    "candy.head()"
   ]
  },
  {
   "cell_type": "markdown",
   "metadata": {},
   "source": [
    "### Perceptron\n",
    "\n",
    "To make predictions on the `candy` dataframe. Build and train a Perceptron using numpy. Your target column is `ate` and your features: `chocolate` and `gummy`. Do not do any feature engineering. :P\n",
    "\n",
    "Once you've trained your model, report your accuracy. Explain why you could not achieve a higher accuracy with a *simple perceptron*. It's possible to achieve ~95% accuracy on this dataset."
   ]
  },
  {
   "cell_type": "code",
   "execution_count": 11,
   "metadata": {
    "collapsed": false,
    "inputHidden": false,
    "jupyter": {
     "outputs_hidden": false
    },
    "outputHidden": false
   },
   "outputs": [],
   "source": [
    "# Start your candy perceptron here\n",
    "\n",
    "X = candy[['chocolate', 'gummy']].values\n",
    "y = candy['ate'].values"
   ]
  },
  {
   "cell_type": "code",
   "execution_count": 71,
   "metadata": {},
   "outputs": [
    {
     "data": {
      "text/plain": [
       "((7500, 2), (7500,), (2500, 2), (2500,))"
      ]
     },
     "execution_count": 71,
     "metadata": {},
     "output_type": "execute_result"
    }
   ],
   "source": [
    "X_train, X_test, y_train, y_test = train_test_split(\n",
    "    X, y, test_size=0.25, random_state=42)\n",
    "\n",
    "X_train.shape, y_train.shape, X_test.shape, y_test.shape"
   ]
  },
  {
   "cell_type": "code",
   "execution_count": 77,
   "metadata": {},
   "outputs": [],
   "source": [
    "# import perceptron from lecture notebook\n",
    "class Perceptron(object):\n",
    "  def __init__(self, rate = 0.01, niter = 10):\n",
    "    self.rate = rate\n",
    "    self.niter = niter\n",
    "\n",
    "  def fit(self, X, y):\n",
    "    \"\"\"Fit training data\n",
    "    X : Training vectors, X.shape : [#samples, #features]\n",
    "    y : Target values, y.shape : [#samples]\n",
    "    \"\"\"\n",
    "\n",
    "    # weights\n",
    "    self.weight = np.zeros(1 + X.shape[1])\n",
    "\n",
    "    # Number of misclassifications\n",
    "    self.errors = []  # Number of misclassifications\n",
    "\n",
    "    for i in range(self.niter):\n",
    "      err = 0\n",
    "      for xi, target in zip(X, y):\n",
    "        delta_w = self.rate * (target - self.predict(xi))\n",
    "        self.weight[1:] += delta_w * xi\n",
    "        self.weight[0] += delta_w\n",
    "        err += int(delta_w != 0.0)\n",
    "      self.errors.append(err)\n",
    "    return self\n",
    "\n",
    "  def net_input(self, X):\n",
    "    \"\"\"Calculate net input\"\"\"\n",
    "    return np.dot(X, self.weight[1:]) + self.weight[0]\n",
    "\n",
    "  def predict(self, X):\n",
    "    \"\"\"Return class label after unit step\"\"\"\n",
    "    return np.where(self.net_input(X) >= 0.0, 1, -1)"
   ]
  },
  {
   "cell_type": "code",
   "execution_count": 78,
   "metadata": {},
   "outputs": [],
   "source": [
    "perc = Perceptron(0.01, 100)"
   ]
  },
  {
   "cell_type": "code",
   "execution_count": 79,
   "metadata": {},
   "outputs": [
    {
     "data": {
      "text/plain": [
       "<__main__.Perceptron at 0x7ff8772e95f8>"
      ]
     },
     "execution_count": 79,
     "metadata": {},
     "output_type": "execute_result"
    }
   ],
   "source": [
    "perc.fit(X_train, y_train)"
   ]
  },
  {
   "cell_type": "code",
   "execution_count": 80,
   "metadata": {},
   "outputs": [],
   "source": [
    "y_pred = perc.predict(X_test)"
   ]
  },
  {
   "cell_type": "code",
   "execution_count": 84,
   "metadata": {},
   "outputs": [
    {
     "data": {
      "text/plain": [
       "0.25"
      ]
     },
     "execution_count": 84,
     "metadata": {},
     "output_type": "execute_result"
    }
   ],
   "source": [
    "accuracy_score(y_pred, y_test)"
   ]
  },
  {
   "cell_type": "code",
   "execution_count": 85,
   "metadata": {},
   "outputs": [
    {
     "data": {
      "image/png": "[encoded data removed]",
      "text/plain": [
       "<Figure size 432x288 with 1 Axes>"
      ]
     },
     "metadata": {
      "needs_background": "light"
     },
     "output_type": "display_data"
    }
   ],
   "source": [
    "plt.plot(range(1, len(perc.errors) + 1), perc.errors, marker='o')\n",
    "plt.xlabel('Epochs')\n",
    "plt.ylabel('Number of misclassifications')\n",
    "plt.show()"
   ]
  },
  {
   "cell_type": "markdown",
   "metadata": {},
   "source": [
    "### Multilayer Perceptron <a id=\"Q3\"></a>\n",
    "\n",
    "Using the sample candy dataset, implement a Neural Network Multilayer Perceptron class that uses backpropagation to update the network's weights. Your Multilayer Perceptron should be implemented in Numpy. \n",
    "Your network must have one hidden layer.\n",
    "\n",
    "Once you've trained your model, report your accuracy. Explain why your MLP's performance is considerably better than your simple perceptron's on the candy dataset. "
   ]
  },
  {
   "cell_type": "code",
   "execution_count": 67,
   "metadata": {},
   "outputs": [],
   "source": [
    "# import two layer perceptron class\n",
    "class TwoLayerNetSimple(object):\n",
    "    \"\"\"\n",
    "    Simple two fully connected layers net with simple loss function loss = y - y_pred\n",
    "    \"\"\"\n",
    "    def __init__(self, input_dim = 3, hidden_dim = 64, output_dim = 1, iterations=10000):\n",
    "        self.iterations = iterations\n",
    "\n",
    "        # initiailize weights\n",
    "        self.W1 = np.random.rand(input_dim, hidden_dim) / np.sqrt(input_dim)\n",
    "        self.b1 = np.zeros(hidden_dim)\n",
    "        self.W2 = np.random.rand(hidden_dim, output_dim) / np.sqrt(hidden_dim)\n",
    "        self.b2 = np.zeros(output_dim)\n",
    "        self.loss = []\n",
    "        pass\n",
    "        \n",
    "    def sigmoid(self, x):\n",
    "        return 1 / (1 + np.exp(-x))\n",
    "\n",
    "    def dsigmoid(self, x):\n",
    "        s = self.sigmoid(x)\n",
    "        return s * (1 - s)\n",
    "    \n",
    "    def affine_forward(self, x, w, b):\n",
    "        scores = x.dot(w) + b\n",
    "        cache = (x, w, b)\n",
    "        return scores, cache\n",
    "    \n",
    "    def affine_backward(self, dout, cache):\n",
    "        x, w, b = cache\n",
    "        dx = dout.dot(w.T).reshape(x.shape)\n",
    "        dw = x.T.dot(dout)\n",
    "        db = np.sum(dout, axis=0)\n",
    "        return dx, dw, db\n",
    "        \n",
    "    def fit(self, x, y):\n",
    "        \n",
    "        for i in range(self.iterations):           \n",
    "            # forward prop\n",
    "            a1, cache_l1 = self.affine_forward(x, self.W1, self.b1)\n",
    "            out_l1 = self.sigmoid(a1)\n",
    "            a2, cache_l2 = self.affine_forward(out_l1, self.W2, self.b2)\n",
    "\n",
    "            # scoring\n",
    "            out_l2 = self.sigmoid(a2)\n",
    "            loss = y.reshape(-1, 1) - out_l2#.reshape(-1,1) - out_l2\n",
    "            self.loss.append(loss[0][0])\n",
    "\n",
    "            # back prop\n",
    "            da2 = loss * self.dsigmoid(out_l2)\n",
    "            dout_l2, dW2, db2 = self.affine_backward(da2, cache_l2)\n",
    "            da1 = dout_l2 * self.dsigmoid(out_l1)\n",
    "            _, dW1, db1 = self.affine_backward(da1, cache_l1)\n",
    "\n",
    "            # gradient update\n",
    "            self.W1 += dW1\n",
    "            self.b1 += db1\n",
    "            self.W2 += dW2\n",
    "            self.b2 += db2\n",
    "        pass\n",
    "        \n",
    "    def predict(self, x):\n",
    "        x = np.array(x)\n",
    "        a1, _ = self.affine_forward(x, self.W1, self.b1)\n",
    "        out1 = self.sigmoid(a1)\n",
    "        scores = self.affine_forward(out1, self.W2, self.b2)\n",
    "        out = self.sigmoid(scores[0])\n",
    "        return out"
   ]
  },
  {
   "cell_type": "code",
   "execution_count": 95,
   "metadata": {
    "collapsed": false,
    "inputHidden": false,
    "jupyter": {
     "outputs_hidden": false
    },
    "outputHidden": false
   },
   "outputs": [],
   "source": [
    "nn = TwoLayerNetSimple(input_dim=2, hidden_dim=1, output_dim=1, iterations=100)"
   ]
  },
  {
   "cell_type": "code",
   "execution_count": 96,
   "metadata": {},
   "outputs": [
    {
     "name": "stderr",
     "output_type": "stream",
     "text": [
      "/usr/local/lib/python3.6/dist-packages/ipykernel_launcher.py:18: RuntimeWarning: overflow encountered in exp\n"
     ]
    }
   ],
   "source": [
    "nn.fit(X_train, y_train)"
   ]
  },
  {
   "cell_type": "code",
   "execution_count": 97,
   "metadata": {},
   "outputs": [
    {
     "data": {
      "image/png": "[encoded data removed]",
      "text/plain": [
       "<Figure size 432x288 with 1 Axes>"
      ]
     },
     "metadata": {
      "needs_background": "light"
     },
     "output_type": "display_data"
    }
   ],
   "source": [
    "plt.plot(nn.loss);"
   ]
  },
  {
   "cell_type": "code",
   "execution_count": 98,
   "metadata": {},
   "outputs": [
    {
     "name": "stderr",
     "output_type": "stream",
     "text": [
      "/usr/local/lib/python3.6/dist-packages/ipykernel_launcher.py:18: RuntimeWarning: overflow encountered in exp\n"
     ]
    }
   ],
   "source": [
    "y_pred2 = nn.predict(X_test)"
   ]
  },
  {
   "cell_type": "code",
   "execution_count": 99,
   "metadata": {},
   "outputs": [
    {
     "data": {
      "text/plain": [
       "0.4956"
      ]
     },
     "execution_count": 99,
     "metadata": {},
     "output_type": "execute_result"
    }
   ],
   "source": [
    "# accuracy score is better with two layer neural network because it allows for backpropogation\n",
    "\n",
    "accuracy_score(y_test, y_pred2)"
   ]
  },
  {
   "cell_type": "markdown",
   "metadata": {},
   "source": [
    "P.S. Don't try candy gummy bears. They're disgusting. "
   ]
  },
  {
   "cell_type": "markdown",
   "metadata": {},
   "source": [
    "## 3. Keras MMP <a id=\"Q3\"></a>\n",
    "\n",
    "Implement a Multilayer Perceptron architecture of your choosing using the Keras library. Train your model and report its baseline accuracy. Then hyperparameter tune at least two parameters and report your model's accuracy.\n",
    "Use the Heart Disease Dataset (binary classification)\n",
    "Use an appropriate loss function for a binary classification task\n",
    "Use an appropriate activation function on the final layer of your network.\n",
    "Train your model using verbose output for ease of grading.\n",
    "Use GridSearchCV or RandomSearchCV to hyperparameter tune your model. (for at least two hyperparameters)\n",
    "When hyperparameter tuning, show you work by adding code cells for each new experiment.\n",
    "Report the accuracy for each combination of hyperparameters as you test them so that we can easily see which resulted in the highest accuracy.\n",
    "You must hyperparameter tune at least 3 parameters in order to get a 3 on this section."
   ]
  },
  {
   "cell_type": "code",
   "execution_count": 100,
   "metadata": {
    "collapsed": false,
    "inputHidden": false,
    "jupyter": {
     "outputs_hidden": false
    },
    "outputHidden": false
   },
   "outputs": [
    {
     "name": "stdout",
     "output_type": "stream",
     "text": [
      "(303, 14)\n"
     ]
    },
    {
     "data": {
      "text/html": [
       "<div>\n",
       "<style scoped>\n",
       "    .dataframe tbody tr th:only-of-type {\n",
       "        vertical-align: middle;\n",
       "    }\n",
       "\n",
       "    .dataframe tbody tr th {\n",
       "        vertical-align: top;\n",
       "    }\n",
       "\n",
       "    .dataframe thead th {\n",
       "        text-align: right;\n",
       "    }\n",
       "</style>\n",
       "<table border=\"1\" class=\"dataframe\">\n",
       "  <thead>\n",
       "    <tr style=\"text-align: right;\">\n",
       "      <th></th>\n",
       "      <th>age</th>\n",
       "      <th>sex</th>\n",
       "      <th>cp</th>\n",
       "      <th>trestbps</th>\n",
       "      <th>chol</th>\n",
       "      <th>fbs</th>\n",
       "      <th>restecg</th>\n",
       "      <th>thalach</th>\n",
       "      <th>exang</th>\n",
       "      <th>oldpeak</th>\n",
       "      <th>slope</th>\n",
       "      <th>ca</th>\n",
       "      <th>thal</th>\n",
       "      <th>target</th>\n",
       "    </tr>\n",
       "  </thead>\n",
       "  <tbody>\n",
       "    <tr>\n",
       "      <td>70</td>\n",
       "      <td>54</td>\n",
       "      <td>1</td>\n",
       "      <td>2</td>\n",
       "      <td>120</td>\n",
       "      <td>258</td>\n",
       "      <td>0</td>\n",
       "      <td>0</td>\n",
       "      <td>147</td>\n",
       "      <td>0</td>\n",
       "      <td>0.4</td>\n",
       "      <td>1</td>\n",
       "      <td>0</td>\n",
       "      <td>3</td>\n",
       "      <td>1</td>\n",
       "    </tr>\n",
       "    <tr>\n",
       "      <td>192</td>\n",
       "      <td>54</td>\n",
       "      <td>1</td>\n",
       "      <td>0</td>\n",
       "      <td>120</td>\n",
       "      <td>188</td>\n",
       "      <td>0</td>\n",
       "      <td>1</td>\n",
       "      <td>113</td>\n",
       "      <td>0</td>\n",
       "      <td>1.4</td>\n",
       "      <td>1</td>\n",
       "      <td>1</td>\n",
       "      <td>3</td>\n",
       "      <td>0</td>\n",
       "    </tr>\n",
       "    <tr>\n",
       "      <td>13</td>\n",
       "      <td>64</td>\n",
       "      <td>1</td>\n",
       "      <td>3</td>\n",
       "      <td>110</td>\n",
       "      <td>211</td>\n",
       "      <td>0</td>\n",
       "      <td>0</td>\n",
       "      <td>144</td>\n",
       "      <td>1</td>\n",
       "      <td>1.8</td>\n",
       "      <td>1</td>\n",
       "      <td>0</td>\n",
       "      <td>2</td>\n",
       "      <td>1</td>\n",
       "    </tr>\n",
       "    <tr>\n",
       "      <td>26</td>\n",
       "      <td>59</td>\n",
       "      <td>1</td>\n",
       "      <td>2</td>\n",
       "      <td>150</td>\n",
       "      <td>212</td>\n",
       "      <td>1</td>\n",
       "      <td>1</td>\n",
       "      <td>157</td>\n",
       "      <td>0</td>\n",
       "      <td>1.6</td>\n",
       "      <td>2</td>\n",
       "      <td>0</td>\n",
       "      <td>2</td>\n",
       "      <td>1</td>\n",
       "    </tr>\n",
       "    <tr>\n",
       "      <td>222</td>\n",
       "      <td>65</td>\n",
       "      <td>1</td>\n",
       "      <td>3</td>\n",
       "      <td>138</td>\n",
       "      <td>282</td>\n",
       "      <td>1</td>\n",
       "      <td>0</td>\n",
       "      <td>174</td>\n",
       "      <td>0</td>\n",
       "      <td>1.4</td>\n",
       "      <td>1</td>\n",
       "      <td>1</td>\n",
       "      <td>2</td>\n",
       "      <td>0</td>\n",
       "    </tr>\n",
       "  </tbody>\n",
       "</table>\n",
       "</div>"
      ],
      "text/plain": [
       "     age  sex  cp  trestbps  chol  fbs  restecg  thalach  exang  oldpeak  \\\n",
       "70    54    1   2       120   258    0        0      147      0      0.4   \n",
       "192   54    1   0       120   188    0        1      113      0      1.4   \n",
       "13    64    1   3       110   211    0        0      144      1      1.8   \n",
       "26    59    1   2       150   212    1        1      157      0      1.6   \n",
       "222   65    1   3       138   282    1        0      174      0      1.4   \n",
       "\n",
       "     slope  ca  thal  target  \n",
       "70       1   0     3       1  \n",
       "192      1   1     3       0  \n",
       "13       1   0     2       1  \n",
       "26       2   0     2       1  \n",
       "222      1   1     2       0  "
      ]
     },
     "execution_count": 100,
     "metadata": {},
     "output_type": "execute_result"
    }
   ],
   "source": [
    "import pandas as pd\n",
    "from sklearn.preprocessing import StandardScaler\n",
    "\n",
    "df = pd.read_csv('https://raw.githubusercontent.com/ryanleeallred/datasets/master/heart.csv')\n",
    "df = df.sample(frac=1)\n",
    "print(df.shape)\n",
    "df.head()"
   ]
  },
  {
   "cell_type": "code",
   "execution_count": 102,
   "metadata": {},
   "outputs": [
    {
     "ename": "AttributeError",
     "evalue": "'numpy.ndarray' object has no attribute 'values'",
     "output_type": "error",
     "traceback": [
      "\u001b[0;31m---------------------------------------------------------------------------\u001b[0m",
      "\u001b[0;31mAttributeError\u001b[0m                            Traceback (most recent call last)",
      "\u001b[0;32m<ipython-input-102-1b958eb1d8ac>\u001b[0m in \u001b[0;36m<module>\u001b[0;34m\u001b[0m\n\u001b[1;32m      1\u001b[0m \u001b[0;31m# ensure values\u001b[0m\u001b[0;34m\u001b[0m\u001b[0;34m\u001b[0m\u001b[0;34m\u001b[0m\u001b[0m\n\u001b[0;32m----> 2\u001b[0;31m \u001b[0mdf\u001b[0m \u001b[0;34m=\u001b[0m \u001b[0mdf\u001b[0m\u001b[0;34m.\u001b[0m\u001b[0mvalues\u001b[0m\u001b[0;34m\u001b[0m\u001b[0;34m\u001b[0m\u001b[0m\n\u001b[0m",
      "\u001b[0;31mAttributeError\u001b[0m: 'numpy.ndarray' object has no attribute 'values'"
     ]
    }
   ],
   "source": [
    "# ensure values\n",
    "df = df.values"
   ]
  },
  {
   "cell_type": "code",
   "execution_count": 103,
   "metadata": {},
   "outputs": [],
   "source": [
    "# create scalar to normalize\n",
    "scaler = StandardScaler()"
   ]
  },
  {
   "cell_type": "code",
   "execution_count": 104,
   "metadata": {},
   "outputs": [],
   "source": [
    "# scale entire dataframe\n",
    "df_scaled = scaler.fit_transform(df)"
   ]
  },
  {
   "cell_type": "code",
   "execution_count": 106,
   "metadata": {},
   "outputs": [
    {
     "data": {
      "text/plain": [
       "((227, 13), (76, 13), (227,), (76,))"
      ]
     },
     "execution_count": 106,
     "metadata": {},
     "output_type": "execute_result"
    }
   ],
   "source": [
    "# create train/test split\n",
    "X_train, X_test, y_train, y_test = train_test_split(df_scaled[:, :-1], df_scaled[:, -1], test_size=0.25)\n",
    "X_train.shape, X_test.shape, y_train.shape, y_test.shape"
   ]
  },
  {
   "cell_type": "code",
   "execution_count": 107,
   "metadata": {},
   "outputs": [],
   "source": [
    "# create model\n",
    "from tensorflow.keras.models import Sequential, Model\n",
    "from tensorflow.keras.layers import Dense, Dense, Dropout, Activation, Flatten, Input"
   ]
  },
  {
   "cell_type": "code",
   "execution_count": 110,
   "metadata": {},
   "outputs": [
    {
     "name": "stdout",
     "output_type": "stream",
     "text": [
      "Train on 227 samples\n",
      "Epoch 1/50\n",
      "227/227 [==============================] - 0s 2ms/sample - loss: 0.5425 - accuracy: 0.0000e+00\n",
      "Epoch 2/50\n",
      "227/227 [==============================] - 0s 124us/sample - loss: 0.5163 - accuracy: 0.0000e+00\n",
      "Epoch 3/50\n",
      "227/227 [==============================] - 0s 105us/sample - loss: 0.4918 - accuracy: 0.0000e+00\n",
      "Epoch 4/50\n",
      "227/227 [==============================] - 0s 108us/sample - loss: 0.4678 - accuracy: 0.0000e+00\n",
      "Epoch 5/50\n",
      "227/227 [==============================] - 0s 127us/sample - loss: 0.4462 - accuracy: 0.0000e+00\n",
      "Epoch 6/50\n",
      "227/227 [==============================] - 0s 138us/sample - loss: 0.4229 - accuracy: 0.0000e+00\n",
      "Epoch 7/50\n",
      "227/227 [==============================] - 0s 128us/sample - loss: 0.4006 - accuracy: 0.0000e+00\n",
      "Epoch 8/50\n",
      "227/227 [==============================] - 0s 119us/sample - loss: 0.3792 - accuracy: 0.0000e+00\n",
      "Epoch 9/50\n",
      "227/227 [==============================] - 0s 182us/sample - loss: 0.3590 - accuracy: 0.0000e+00\n",
      "Epoch 10/50\n",
      "227/227 [==============================] - 0s 110us/sample - loss: 0.3391 - accuracy: 0.0000e+00\n",
      "Epoch 11/50\n",
      "227/227 [==============================] - 0s 109us/sample - loss: 0.3187 - accuracy: 0.0000e+00\n",
      "Epoch 12/50\n",
      "227/227 [==============================] - 0s 109us/sample - loss: 0.2985 - accuracy: 0.0000e+00\n",
      "Epoch 13/50\n",
      "227/227 [==============================] - 0s 108us/sample - loss: 0.2768 - accuracy: 0.0000e+00\n",
      "Epoch 14/50\n",
      "227/227 [==============================] - 0s 113us/sample - loss: 0.2545 - accuracy: 0.0000e+00\n",
      "Epoch 15/50\n",
      "227/227 [==============================] - 0s 111us/sample - loss: 0.2351 - accuracy: 0.0000e+00\n",
      "Epoch 16/50\n",
      "227/227 [==============================] - 0s 106us/sample - loss: 0.2145 - accuracy: 0.0000e+00\n",
      "Epoch 17/50\n",
      "227/227 [==============================] - 0s 108us/sample - loss: 0.1963 - accuracy: 0.0000e+00\n",
      "Epoch 18/50\n",
      "227/227 [==============================] - 0s 108us/sample - loss: 0.1775 - accuracy: 0.0000e+00\n",
      "Epoch 19/50\n",
      "227/227 [==============================] - 0s 113us/sample - loss: 0.1581 - accuracy: 0.0000e+00\n",
      "Epoch 20/50\n",
      "227/227 [==============================] - 0s 104us/sample - loss: 0.1402 - accuracy: 0.0000e+00\n",
      "Epoch 21/50\n",
      "227/227 [==============================] - 0s 108us/sample - loss: 0.1215 - accuracy: 0.0000e+00\n",
      "Epoch 22/50\n",
      "227/227 [==============================] - 0s 107us/sample - loss: 0.1023 - accuracy: 0.0000e+00\n",
      "Epoch 23/50\n",
      "227/227 [==============================] - 0s 116us/sample - loss: 0.0827 - accuracy: 0.0000e+00\n",
      "Epoch 24/50\n",
      "227/227 [==============================] - 0s 102us/sample - loss: 0.0631 - accuracy: 0.0000e+00\n",
      "Epoch 25/50\n",
      "227/227 [==============================] - 0s 104us/sample - loss: 0.0444 - accuracy: 0.0000e+00\n",
      "Epoch 26/50\n",
      "227/227 [==============================] - 0s 118us/sample - loss: 0.0268 - accuracy: 0.0000e+00\n",
      "Epoch 27/50\n",
      "227/227 [==============================] - 0s 112us/sample - loss: 0.0090 - accuracy: 0.0000e+00\n",
      "Epoch 28/50\n",
      "227/227 [==============================] - 0s 114us/sample - loss: -0.0066 - accuracy: 0.0000e+00\n",
      "Epoch 29/50\n",
      "227/227 [==============================] - 0s 104us/sample - loss: -0.0236 - accuracy: 0.0000e+00\n",
      "Epoch 30/50\n",
      "227/227 [==============================] - 0s 107us/sample - loss: -0.0406 - accuracy: 0.0000e+00\n",
      "Epoch 31/50\n",
      "227/227 [==============================] - 0s 112us/sample - loss: -0.0574 - accuracy: 0.0000e+00\n",
      "Epoch 32/50\n",
      "227/227 [==============================] - 0s 109us/sample - loss: -0.0751 - accuracy: 0.0000e+00\n",
      "Epoch 33/50\n",
      "227/227 [==============================] - 0s 105us/sample - loss: -0.0908 - accuracy: 0.0000e+00\n",
      "Epoch 34/50\n",
      "227/227 [==============================] - 0s 103us/sample - loss: -0.1078 - accuracy: 0.0000e+00\n",
      "Epoch 35/50\n",
      "227/227 [==============================] - 0s 101us/sample - loss: -0.1241 - accuracy: 0.0000e+00\n",
      "Epoch 36/50\n",
      "227/227 [==============================] - 0s 108us/sample - loss: -0.1409 - accuracy: 0.0000e+00\n",
      "Epoch 37/50\n",
      "227/227 [==============================] - 0s 115us/sample - loss: -0.1572 - accuracy: 0.0000e+00\n",
      "Epoch 38/50\n",
      "227/227 [==============================] - 0s 108us/sample - loss: -0.1749 - accuracy: 0.0000e+00\n",
      "Epoch 39/50\n",
      "227/227 [==============================] - 0s 124us/sample - loss: -0.1936 - accuracy: 0.0000e+00\n",
      "Epoch 40/50\n",
      "227/227 [==============================] - 0s 109us/sample - loss: -0.2106 - accuracy: 0.0000e+00\n",
      "Epoch 41/50\n",
      "227/227 [==============================] - 0s 100us/sample - loss: -0.2268 - accuracy: 0.0000e+00\n",
      "Epoch 42/50\n",
      "227/227 [==============================] - 0s 97us/sample - loss: -0.2427 - accuracy: 0.0000e+00\n",
      "Epoch 43/50\n",
      "227/227 [==============================] - 0s 100us/sample - loss: -0.2586 - accuracy: 0.0000e+00\n",
      "Epoch 44/50\n",
      "227/227 [==============================] - 0s 107us/sample - loss: -0.2744 - accuracy: 0.0000e+00\n",
      "Epoch 45/50\n",
      "227/227 [==============================] - 0s 125us/sample - loss: -0.2913 - accuracy: 0.0000e+00\n",
      "Epoch 46/50\n",
      "227/227 [==============================] - 0s 104us/sample - loss: -0.3061 - accuracy: 0.0000e+00\n",
      "Epoch 47/50\n",
      "227/227 [==============================] - 0s 93us/sample - loss: -0.3214 - accuracy: 0.0000e+00\n",
      "Epoch 48/50\n",
      "227/227 [==============================] - 0s 98us/sample - loss: -0.3364 - accuracy: 0.0000e+00\n",
      "Epoch 49/50\n",
      "227/227 [==============================] - 0s 98us/sample - loss: -0.3524 - accuracy: 0.0000e+00\n",
      "Epoch 50/50\n",
      "227/227 [==============================] - 0s 96us/sample - loss: -0.3672 - accuracy: 0.0000e+00\n"
     ]
    },
    {
     "data": {
      "text/plain": [
       "<tensorflow.python.keras.callbacks.History at 0x7ff7dc264e80>"
      ]
     },
     "execution_count": 110,
     "metadata": {},
     "output_type": "execute_result"
    }
   ],
   "source": [
    "model = Sequential()\n",
    "model.add(Dense(1,input_dim=13, activation='sigmoid'))\n",
    "model.compile(loss='binary_crossentropy', optimizer='adam', metrics=['accuracy'])\n",
    "model.fit(X_train,y_train, epochs=50)"
   ]
  },
  {
   "cell_type": "code",
   "execution_count": null,
   "metadata": {},
   "outputs": [],
   "source": []
  }
 ],
 "metadata": {
  "kernel_info": {
   "name": "python3"
  },
  "kernelspec": {
   "display_name": "Python 3",
   "language": "python",
   "name": "python3"
  },
  "language_info": {
   "codemirror_mode": {
    "name": "ipython",
    "version": 3
   },
   "file_extension": ".py",
   "mimetype": "text/x-python",
   "name": "python",
   "nbconvert_exporter": "python",
   "pygments_lexer": "ipython3",
   "version": "3.6.8"
  },
  "nteract": {
   "version": "0.15.0"
  }
 },
 "nbformat": 4,
 "nbformat_minor": 4
}
